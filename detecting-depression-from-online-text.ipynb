{
 "cells": [
  {
   "attachments": {},
   "cell_type": "markdown",
   "id": "d6e2000d",
   "metadata": {},
   "source": [
    "## Detecting Depression from Online Text\n",
    "<br>\n",
    "Depression is a mood disorder that affects almost 1 in 10 Americans each year, with teens and young adults being the most affected groups (US News, 2022). Though it has reached epidemic levels, there is still no universal method of consistently screening and many caregivers such as parents, teachers, and coaches have little, if any, training in detecting signs of depression.<br><br>\n",
    "Twitter, an online social media platform that allows users to write \"tweets\" (short messages of no more than 280 characters, has 77.75 million active users in the US as of 2022 (Statista, 2022). Given that tweets appear instantaneously once a user posts one, it can serve as a way to peer into the thoughts of a user in real time.<br><br>\n",
    "For this project, I wanted to see if it would be possible to accurately predict whether or not a tweet is considered to be \"depressive\" or \"not depressive.\" If we can successfully predict a dip in someone's mood in real time, then we can better provide preventative measures to help their well-being.\n",
    "<br><br>\n",
    "The two datasets I used from Kaggle are:\n",
    "<br><br>\n",
    "- Depression: Twitter Dataset + Feature Extraction, a collection of tweets from Twitter. Each post is labeled with 0 for \"not depressed\" and 1 for \"depressed.\"\n",
    "<br><br>\n",
    "- Sentimental Analysis for Tweets, a collection of tweets from Twitter. Each post is labeled with 0 for \"not depressed\" and 1 for \"depressed.\""
   ]
  },
  {
   "cell_type": "markdown",
   "id": "1c449807",
   "metadata": {},
   "source": [
    "# EDA"
   ]
  },
  {
   "cell_type": "code",
   "execution_count": 5,
   "id": "61d8b95a",
   "metadata": {},
   "outputs": [],
   "source": [
    "import pandas as pd\n",
    "import numpy as np\n",
    "import seaborn as sns\n",
    "import matplotlib.pyplot as plt\n",
    "import re\n",
    "import nltk"
   ]
  },
  {
   "cell_type": "markdown",
   "id": "71847b89",
   "metadata": {},
   "source": [
    "### 1. Read in datasets"
   ]
  },
  {
   "cell_type": "code",
   "execution_count": 6,
   "id": "c4771d8b",
   "metadata": {},
   "outputs": [],
   "source": [
    "df1 = pd.read_csv('Mental-Health-Twitter.csv', index_col=[0])\n",
    "df2 = pd.read_csv('sentiment_tweets3.csv', index_col=[0])"
   ]
  },
  {
   "cell_type": "markdown",
   "id": "26b322d8",
   "metadata": {},
   "source": [
    "### 2. Preview contents and gather information about datasets"
   ]
  },
  {
   "cell_type": "code",
   "execution_count": 7,
   "id": "d70d0c5c",
   "metadata": {},
   "outputs": [
    {
     "data": {
      "text/plain": [
       "<bound method DataFrame.info of                   post_id                    post_created  \\\n",
       "0      637894677824413696  Sun Aug 30 07:48:37 +0000 2015   \n",
       "1      637890384576778240  Sun Aug 30 07:31:33 +0000 2015   \n",
       "2      637749345908051968  Sat Aug 29 22:11:07 +0000 2015   \n",
       "3      637696421077123073  Sat Aug 29 18:40:49 +0000 2015   \n",
       "4      637696327485366272  Sat Aug 29 18:40:26 +0000 2015   \n",
       "...                   ...                             ...   \n",
       "19995  819336825231773698  Thu Jan 12 00:14:56 +0000 2017   \n",
       "19996  819334654260080640  Thu Jan 12 00:06:18 +0000 2017   \n",
       "19997  819334503042871297  Thu Jan 12 00:05:42 +0000 2017   \n",
       "19998  819334419374899200  Thu Jan 12 00:05:22 +0000 2017   \n",
       "19999  819334270825197568  Thu Jan 12 00:04:47 +0000 2017   \n",
       "\n",
       "                                               post_text     user_id  \\\n",
       "0      It's just over 2 years since I was diagnosed w...  1013187241   \n",
       "1      It's Sunday, I need a break, so I'm planning t...  1013187241   \n",
       "2      Awake but tired. I need to sleep but my brain ...  1013187241   \n",
       "3      RT @SewHQ: #Retro bears make perfect gifts and...  1013187241   \n",
       "4      It’s hard to say whether packing lists are mak...  1013187241   \n",
       "...                                                  ...         ...   \n",
       "19995              A day without sunshine is like night.  1169875706   \n",
       "19996  Boren's Laws: (1) When in charge, ponder. (2) ...  1169875706   \n",
       "19997  The flow chart is a most thoroughly oversold p...  1169875706   \n",
       "19998  Ships are safe in harbor, but they were never ...  1169875706   \n",
       "19999     Black holes are where God is dividing by zero.  1169875706   \n",
       "\n",
       "       followers  friends  favourites  statuses  retweets  label  \n",
       "0             84      211         251       837         0      1  \n",
       "1             84      211         251       837         1      1  \n",
       "2             84      211         251       837         0      1  \n",
       "3             84      211         251       837         2      1  \n",
       "4             84      211         251       837         1      1  \n",
       "...          ...      ...         ...       ...       ...    ...  \n",
       "19995        442      230           7   1063601         0      0  \n",
       "19996        442      230           7   1063601         0      0  \n",
       "19997        442      230           7   1063601         0      0  \n",
       "19998        442      230           7   1063601         0      0  \n",
       "19999        442      230           7   1063601         0      0  \n",
       "\n",
       "[20000 rows x 10 columns]>"
      ]
     },
     "execution_count": 7,
     "metadata": {},
     "output_type": "execute_result"
    }
   ],
   "source": [
    "df1.info"
   ]
  },
  {
   "cell_type": "code",
   "execution_count": 8,
   "id": "aee06b0e",
   "metadata": {},
   "outputs": [
    {
     "data": {
      "text/plain": [
       "<bound method DataFrame.info of                                        message to examine  \\\n",
       "Index                                                       \n",
       "106     just had a real good moment. i missssssssss hi...   \n",
       "217            is reading manga  http://plurk.com/p/mzp1e   \n",
       "220     @comeagainjen http://twitpic.com/2y2lx - http:...   \n",
       "288     @lapcat Need to send 'em to my accountant tomo...   \n",
       "540         ADD ME ON MYSPACE!!!  myspace.com/LookThunder   \n",
       "...                                                   ...   \n",
       "802309  No Depression by G Herbo is my mood from now o...   \n",
       "802310  What do you do when depression succumbs the br...   \n",
       "802311  Ketamine Nasal Spray Shows Promise Against Dep...   \n",
       "802312  dont mistake a bad day with depression! everyo...   \n",
       "802313                                                  0   \n",
       "\n",
       "        label (depression result)  \n",
       "Index                              \n",
       "106                             0  \n",
       "217                             0  \n",
       "220                             0  \n",
       "288                             0  \n",
       "540                             0  \n",
       "...                           ...  \n",
       "802309                          1  \n",
       "802310                          1  \n",
       "802311                          1  \n",
       "802312                          1  \n",
       "802313                          1  \n",
       "\n",
       "[10314 rows x 2 columns]>"
      ]
     },
     "execution_count": 8,
     "metadata": {},
     "output_type": "execute_result"
    }
   ],
   "source": [
    "df2.info"
   ]
  },
  {
   "cell_type": "markdown",
   "id": "8fc0d431",
   "metadata": {},
   "source": [
    "### 3. Check for missing data"
   ]
  },
  {
   "cell_type": "markdown",
   "id": "ce0eecdd",
   "metadata": {},
   "source": [
    "All 2 datasets do not have missing data."
   ]
  },
  {
   "cell_type": "code",
   "execution_count": 9,
   "id": "605366c1",
   "metadata": {},
   "outputs": [
    {
     "data": {
      "text/plain": [
       "post_id         False\n",
       "post_created    False\n",
       "post_text       False\n",
       "user_id         False\n",
       "followers       False\n",
       "friends         False\n",
       "favourites      False\n",
       "statuses        False\n",
       "retweets        False\n",
       "label           False\n",
       "dtype: bool"
      ]
     },
     "execution_count": 9,
     "metadata": {},
     "output_type": "execute_result"
    }
   ],
   "source": [
    "df1.isnull().all()"
   ]
  },
  {
   "cell_type": "code",
   "execution_count": 10,
   "id": "7460eb88",
   "metadata": {},
   "outputs": [
    {
     "data": {
      "text/plain": [
       "message to examine           False\n",
       "label (depression result)    False\n",
       "dtype: bool"
      ]
     },
     "execution_count": 10,
     "metadata": {},
     "output_type": "execute_result"
    }
   ],
   "source": [
    "df2.isnull().all()"
   ]
  },
  {
   "cell_type": "markdown",
   "id": "f4ecf163",
   "metadata": {},
   "source": [
    "### 4. Homogenize column names"
   ]
  },
  {
   "cell_type": "markdown",
   "id": "143bc891",
   "metadata": {},
   "source": [
    "Since df2 only has 2 columns 'message to examine' and 'label (depression result)', I only kept the same 2 columns from df1."
   ]
  },
  {
   "cell_type": "code",
   "execution_count": 11,
   "id": "955a5cd4",
   "metadata": {},
   "outputs": [
    {
     "data": {
      "text/html": [
       "<div>\n",
       "<style scoped>\n",
       "    .dataframe tbody tr th:only-of-type {\n",
       "        vertical-align: middle;\n",
       "    }\n",
       "\n",
       "    .dataframe tbody tr th {\n",
       "        vertical-align: top;\n",
       "    }\n",
       "\n",
       "    .dataframe thead th {\n",
       "        text-align: right;\n",
       "    }\n",
       "</style>\n",
       "<table border=\"1\" class=\"dataframe\">\n",
       "  <thead>\n",
       "    <tr style=\"text-align: right;\">\n",
       "      <th></th>\n",
       "      <th>post_text</th>\n",
       "      <th>label</th>\n",
       "    </tr>\n",
       "  </thead>\n",
       "  <tbody>\n",
       "    <tr>\n",
       "      <th>0</th>\n",
       "      <td>It's just over 2 years since I was diagnosed w...</td>\n",
       "      <td>1</td>\n",
       "    </tr>\n",
       "    <tr>\n",
       "      <th>1</th>\n",
       "      <td>It's Sunday, I need a break, so I'm planning t...</td>\n",
       "      <td>1</td>\n",
       "    </tr>\n",
       "    <tr>\n",
       "      <th>2</th>\n",
       "      <td>Awake but tired. I need to sleep but my brain ...</td>\n",
       "      <td>1</td>\n",
       "    </tr>\n",
       "    <tr>\n",
       "      <th>3</th>\n",
       "      <td>RT @SewHQ: #Retro bears make perfect gifts and...</td>\n",
       "      <td>1</td>\n",
       "    </tr>\n",
       "    <tr>\n",
       "      <th>4</th>\n",
       "      <td>It’s hard to say whether packing lists are mak...</td>\n",
       "      <td>1</td>\n",
       "    </tr>\n",
       "  </tbody>\n",
       "</table>\n",
       "</div>"
      ],
      "text/plain": [
       "                                           post_text  label\n",
       "0  It's just over 2 years since I was diagnosed w...      1\n",
       "1  It's Sunday, I need a break, so I'm planning t...      1\n",
       "2  Awake but tired. I need to sleep but my brain ...      1\n",
       "3  RT @SewHQ: #Retro bears make perfect gifts and...      1\n",
       "4  It’s hard to say whether packing lists are mak...      1"
      ]
     },
     "execution_count": 11,
     "metadata": {},
     "output_type": "execute_result"
    }
   ],
   "source": [
    "# specify columns to keep for d2\n",
    "df1 = df1[['post_text', 'label']]\n",
    "\n",
    "# confirm columns kept are the correct ones we want\n",
    "df1.head()"
   ]
  },
  {
   "cell_type": "code",
   "execution_count": 12,
   "id": "6c1ae27a",
   "metadata": {},
   "outputs": [],
   "source": [
    "# standardize column names for df2\n",
    "df2.columns= ['post_text', 'label']"
   ]
  },
  {
   "cell_type": "markdown",
   "id": "2293715f",
   "metadata": {},
   "source": [
    "### 5. Visualize counts of depressive and non-depressive posts"
   ]
  },
  {
   "cell_type": "markdown",
   "id": "39853f14",
   "metadata": {},
   "source": [
    "df1 is balanced, but df2 has 4 times the amount of 'non-depressed' posts as it does for 'depressed' posts."
   ]
  },
  {
   "cell_type": "code",
   "execution_count": 13,
   "id": "20e25c56",
   "metadata": {},
   "outputs": [
    {
     "data": {
      "text/plain": [
       "[Text(0.5, 1.0, 'label counts for df2')]"
      ]
     },
     "execution_count": 13,
     "metadata": {},
     "output_type": "execute_result"
    },
    {
     "data": {
      "image/png": "[encoded data removed]",
      "text/plain": [
       "<Figure size 1500x400 with 2 Axes>"
      ]
     },
     "metadata": {},
     "output_type": "display_data"
    }
   ],
   "source": [
    "# set up space for figure\n",
    "fig = plt.figure(figsize=(15,4))\n",
    "fig.subplots_adjust(hspace=0.3, wspace=0.3)\n",
    "\n",
    "# counts for df2\n",
    "ax1 = fig.add_subplot(1,3,2)\n",
    "sns.countplot(x='label', data=df1)\n",
    "ax1.set(title=\"label counts for df1\")\n",
    "\n",
    "# counts for df3\n",
    "ax2 = fig.add_subplot(1,3,3)\n",
    "sns.countplot(x='label', data=df2)\n",
    "ax2.set(title=\"label counts for df2\")"
   ]
  },
  {
   "cell_type": "code",
   "execution_count": 14,
   "id": "db6b15f0",
   "metadata": {},
   "outputs": [
    {
     "data": {
      "text/plain": [
       "0    8000\n",
       "1    2314\n",
       "Name: label, dtype: int64"
      ]
     },
     "execution_count": 14,
     "metadata": {},
     "output_type": "execute_result"
    }
   ],
   "source": [
    "# look at actual numbers\n",
    "df1['label'].value_counts()\n",
    "df2['label'].value_counts()"
   ]
  },
  {
   "cell_type": "markdown",
   "id": "14799ee5",
   "metadata": {},
   "source": [
    "### 6. Balance df2"
   ]
  },
  {
   "cell_type": "markdown",
   "id": "73861514",
   "metadata": {},
   "source": [
    "Given that we have a large number of data from df1, I used the random undersampling method to undersample the majority class ('non-depressed') by randomly choosing samples without replacement."
   ]
  },
  {
   "cell_type": "code",
   "execution_count": 15,
   "id": "6cf483c1",
   "metadata": {},
   "outputs": [
    {
     "data": {
      "image/png": "[encoded data removed]",
      "text/plain": [
       "<Figure size 640x480 with 1 Axes>"
      ]
     },
     "metadata": {},
     "output_type": "display_data"
    }
   ],
   "source": [
    "from imblearn.under_sampling import RandomUnderSampler\n",
    "X = df2.drop(['label'], axis=1)\n",
    "y = df2['label']\n",
    "\n",
    "rus = RandomUnderSampler(sampling_strategy='not minority')\n",
    "X_res, y_res = rus.fit_resample(X, y)\n",
    "\n",
    "# visualize proportion of labels after balancing\n",
    "ax = y_res.value_counts().plot.pie(autopct='%.2f')\n",
    "_ = ax.set_title(\"under-sampling\")"
   ]
  },
  {
   "cell_type": "code",
   "execution_count": 16,
   "id": "531f8b63",
   "metadata": {},
   "outputs": [
    {
     "data": {
      "text/plain": [
       "0    2314\n",
       "1    2314\n",
       "Name: label, dtype: int64"
      ]
     },
     "execution_count": 16,
     "metadata": {},
     "output_type": "execute_result"
    }
   ],
   "source": [
    "# class distribution\n",
    "y_res.value_counts()"
   ]
  },
  {
   "cell_type": "code",
   "execution_count": 17,
   "id": "8ccfa719",
   "metadata": {},
   "outputs": [
    {
     "data": {
      "text/plain": [
       "0    2314\n",
       "1    2314\n",
       "Name: label, dtype: int64"
      ]
     },
     "execution_count": 17,
     "metadata": {},
     "output_type": "execute_result"
    }
   ],
   "source": [
    "# combine columns for d3\n",
    "df2 = pd.concat([X_res, y_res], axis='columns')\n",
    "\n",
    "# confirm successful concatenation\n",
    "df2.head()\n",
    "\n",
    "# confirm balanced data\n",
    "df2['label'].value_counts()"
   ]
  },
  {
   "cell_type": "markdown",
   "id": "98309715",
   "metadata": {},
   "source": [
    "### 7. Combine both dfs"
   ]
  },
  {
   "cell_type": "code",
   "execution_count": 18,
   "id": "36a13d74",
   "metadata": {},
   "outputs": [
    {
     "data": {
      "text/plain": [
       "(24628, 2)"
      ]
     },
     "execution_count": 18,
     "metadata": {},
     "output_type": "execute_result"
    }
   ],
   "source": [
    "df = pd.concat([df1, df2])\n",
    "\n",
    "# confirm change\n",
    "df.shape"
   ]
  },
  {
   "cell_type": "markdown",
   "id": "2ef5b1fd",
   "metadata": {},
   "source": [
    "### 8. Explore number of words in 'depressed' and 'non-depressed' posts"
   ]
  },
  {
   "cell_type": "markdown",
   "id": "3d53fa02",
   "metadata": {},
   "source": [
    "Posts vary in length, so I wanted to see if there were differences in the number of words used in 'depressed' vs 'non-depressed' posts. For simplicity, I assumed that words are separated by spaces."
   ]
  },
  {
   "cell_type": "code",
   "execution_count": 19,
   "id": "cfce32bd",
   "metadata": {},
   "outputs": [
    {
     "data": {
      "text/html": [
       "<div>\n",
       "<style scoped>\n",
       "    .dataframe tbody tr th:only-of-type {\n",
       "        vertical-align: middle;\n",
       "    }\n",
       "\n",
       "    .dataframe tbody tr th {\n",
       "        vertical-align: top;\n",
       "    }\n",
       "\n",
       "    .dataframe thead th {\n",
       "        text-align: right;\n",
       "    }\n",
       "</style>\n",
       "<table border=\"1\" class=\"dataframe\">\n",
       "  <thead>\n",
       "    <tr style=\"text-align: right;\">\n",
       "      <th></th>\n",
       "      <th>post_text</th>\n",
       "      <th>label</th>\n",
       "      <th>word_count</th>\n",
       "    </tr>\n",
       "  </thead>\n",
       "  <tbody>\n",
       "    <tr>\n",
       "      <th>0</th>\n",
       "      <td>It's just over 2 years since I was diagnosed w...</td>\n",
       "      <td>1</td>\n",
       "      <td>26</td>\n",
       "    </tr>\n",
       "    <tr>\n",
       "      <th>1</th>\n",
       "      <td>It's Sunday, I need a break, so I'm planning t...</td>\n",
       "      <td>1</td>\n",
       "      <td>19</td>\n",
       "    </tr>\n",
       "    <tr>\n",
       "      <th>2</th>\n",
       "      <td>Awake but tired. I need to sleep but my brain ...</td>\n",
       "      <td>1</td>\n",
       "      <td>13</td>\n",
       "    </tr>\n",
       "    <tr>\n",
       "      <th>3</th>\n",
       "      <td>RT @SewHQ: #Retro bears make perfect gifts and...</td>\n",
       "      <td>1</td>\n",
       "      <td>23</td>\n",
       "    </tr>\n",
       "    <tr>\n",
       "      <th>4</th>\n",
       "      <td>It’s hard to say whether packing lists are mak...</td>\n",
       "      <td>1</td>\n",
       "      <td>21</td>\n",
       "    </tr>\n",
       "  </tbody>\n",
       "</table>\n",
       "</div>"
      ],
      "text/plain": [
       "                                           post_text  label  word_count\n",
       "0  It's just over 2 years since I was diagnosed w...      1          26\n",
       "1  It's Sunday, I need a break, so I'm planning t...      1          19\n",
       "2  Awake but tired. I need to sleep but my brain ...      1          13\n",
       "3  RT @SewHQ: #Retro bears make perfect gifts and...      1          23\n",
       "4  It’s hard to say whether packing lists are mak...      1          21"
      ]
     },
     "execution_count": 19,
     "metadata": {},
     "output_type": "execute_result"
    }
   ],
   "source": [
    "# split words in 'post-text' and count\n",
    "df['word_count'] = df['post_text'].apply(lambda x: len(str(x).split()))\n",
    "df.head()"
   ]
  },
  {
   "cell_type": "markdown",
   "id": "8da27c5b",
   "metadata": {},
   "source": [
    "Most posts in general tend to be on the shorter end, with depressed posts averaging 15 words versus non-depressed posts averaging 12 words.\n",
    "<br><br>\n",
    "The distribution of word counts for non-depressed posts is slightly right-skewed (min: 1, max: 34) and the distribution of word counts for depressed counts is heavily right-skewed (min: 1, max: 92)."
   ]
  },
  {
   "cell_type": "code",
   "execution_count": 20,
   "id": "4dca1ccb",
   "metadata": {},
   "outputs": [
    {
     "data": {
      "image/png": "[encoded data removed]",
      "text/plain": [
       "<Figure size 1000x400 with 2 Axes>"
      ]
     },
     "metadata": {},
     "output_type": "display_data"
    }
   ],
   "source": [
    "# plot number of words in 'depressed' and 'non-depressed' posts\n",
    "fig,(ax1, ax2) = plt.subplots(1, 2, figsize = (10, 4))\n",
    "\n",
    "dep_words = df[df['label'] == 1]['word_count']\n",
    "ax1.hist(dep_words,color='#1c4966')\n",
    "ax1.set_title('depressed posts')\n",
    "\n",
    "non_dep_words = df[df['label'] == 0]['word_count']\n",
    "ax2.hist(non_dep_words, color = '#ff9d5c')\n",
    "ax2.set_title('non-depressed posts')\n",
    "\n",
    "fig.suptitle('number of words per post')\n",
    "plt.show()"
   ]
  },
  {
   "cell_type": "code",
   "execution_count": 21,
   "id": "92d8b379",
   "metadata": {},
   "outputs": [
    {
     "name": "stdout",
     "output_type": "stream",
     "text": [
      "The minimum number of words in non-depressed posts is:  1\n",
      "The maximum number of words in non-depressed posts is:  34\n",
      "___________________________________________________________\n",
      "The minimum number of words in depressed posts is:  1\n",
      "The maximum number of words in non-depressed posts is:  92\n",
      "___________________________________________________________\n",
      "The average number of words in non-depressed posts is:  12\n",
      "The average number of words in depressed posts is:  15\n"
     ]
    }
   ],
   "source": [
    "print('The minimum number of words in non-depressed posts is: ', non_dep_words.min())\n",
    "print('The maximum number of words in non-depressed posts is: ', non_dep_words.max())\n",
    "print('___________________________________________________________')\n",
    "print('The minimum number of words in depressed posts is: ', dep_words.min())\n",
    "print('The maximum number of words in non-depressed posts is: ', dep_words.max())\n",
    "print('___________________________________________________________')\n",
    "print('The average number of words in non-depressed posts is: ', round(non_dep_words.mean()))\n",
    "print('The average number of words in depressed posts is: ', round(dep_words.mean()))"
   ]
  },
  {
   "cell_type": "markdown",
   "id": "da94f27e",
   "metadata": {},
   "source": [
    "### 9. Split dataset into train and test sets"
   ]
  },
  {
   "cell_type": "markdown",
   "id": "4198bca6",
   "metadata": {},
   "source": [
    "To avoid data leakage, I split the dataset into train (80%) and test (20%) sets before any pre-processing or normalization/transformation steps."
   ]
  },
  {
   "cell_type": "code",
   "execution_count": 22,
   "id": "8b88c6ad",
   "metadata": {},
   "outputs": [
    {
     "name": "stdout",
     "output_type": "stream",
     "text": [
      "Number of training: 19702\n",
      "Number of testing: 4926\n"
     ]
    }
   ],
   "source": [
    "from sklearn.model_selection import train_test_split\n",
    "\n",
    "# split into training and testing site with 20% of rows going to testing and 80% going to training\n",
    "# random state of 10 ensures reproducibility\n",
    "X_train, X_test, y_train, y_test = train_test_split(df['post_text'], df['label'], test_size = 0.2, random_state = 10)\n",
    "\n",
    "print(f\"Number of training: {X_train.shape[0]}\")\n",
    "print(f\"Number of testing: {X_test.shape[0]}\")"
   ]
  },
  {
   "cell_type": "markdown",
   "id": "23117912",
   "metadata": {},
   "source": [
    "# Pre-process"
   ]
  },
  {
   "cell_type": "markdown",
   "id": "48f94fcc",
   "metadata": {},
   "source": [
    "### 10. Clean text"
   ]
  },
  {
   "cell_type": "markdown",
   "id": "c32ca5ac",
   "metadata": {},
   "source": [
    "Prior to building our model, we need to pre-process the text. This involves lemmatizing words and removing stop words, extra white spaces, links, punctuations and special characters.\n",
    "<br><br>\n",
    "Since our posts were scraped from the web, there may be some HTML tags embedded in them, which would not be helpful to us. I used Beautiful Soup to remove HTML tags.\n",
    "<br><br>\n",
    "I made all the text lowercase and removed punctuations. Stopwords are common words that are not typically useful for NLP. Since we won't be needing them, I also removed them.\n",
    "<br><br>\n",
    "Finally, since many words have various forms, I wanted to convert each word to its base form. For this task, the two most common methods are stemming and lemmatization.\n",
    "<br><br>\n",
    "Stemming chops off affixes (prefixes/suffixes) of words and can sometimes convert words into something unrecognizable. However, this method tends to be faster. Lemmatization casts words to their root forms and is more involved than stemming since this method needs to know the part of speech for each word, hence would take longer than stemming. \n",
    "Since our data isn't horribly large and time/cost are not major concerns, I chose to lemmantization over stemming."
   ]
  },
  {
   "cell_type": "code",
   "execution_count": 23,
   "id": "7ccd9e12",
   "metadata": {},
   "outputs": [],
   "source": [
    "from bs4 import BeautifulSoup\n",
    "\n",
    "# create stepwise cleaning function\n",
    "def preprocess(text):\n",
    "    \n",
    "    # lowercase text\n",
    "    text = text.lower()\n",
    "    \n",
    "    # strip all excess white space\n",
    "    text = text.strip()\n",
    "    \n",
    "    # strip HTML tags\n",
    "    text = BeautifulSoup(text, 'html.parser').get_text(separator = ' ')\n",
    "    \n",
    "    # remove retweets\n",
    "    text = re.sub('rt @[\\w_]+:','', text)\n",
    "    \n",
    "    # remove hyperlinks\n",
    "    text = re.sub(r'http\\S+','', text)\n",
    "    \n",
    "    # remove escape sequences\n",
    "    text = re.sub(r'\\n','', text)\n",
    "    \n",
    "    # remove punctuations\n",
    "    text = re.sub(r'[^A-Za-z0-9]+', ' ', text)\n",
    "    \n",
    "    return text"
   ]
  },
  {
   "cell_type": "code",
   "execution_count": 24,
   "id": "1bbbbcc4",
   "metadata": {},
   "outputs": [],
   "source": [
    "from nltk.corpus import stopwords\n",
    "from nltk.tokenize import word_tokenize\n",
    "\n",
    "stop_words = set(stopwords.words('english'))\n",
    "\n",
    "# remove stopwords\n",
    "def remove_stopwords(text):\n",
    "    word_tokens = word_tokenize(text)\n",
    "    text_no_stop = [word for word in word_tokens if word not in stop_words]\n",
    "    return text_no_stop"
   ]
  },
  {
   "cell_type": "code",
   "execution_count": 25,
   "id": "935ce1be",
   "metadata": {},
   "outputs": [],
   "source": [
    "from nltk.stem import WordNetLemmatizer\n",
    "\n",
    "# lemmatize\n",
    "def lemmatize_text(list_of_tokenized_words):\n",
    "    lemmatizer = WordNetLemmatizer()\n",
    "    lemmatized = [lemmatizer.lemmatize(token) for token in list_of_tokenized_words]\n",
    "    return lemmatized"
   ]
  },
  {
   "cell_type": "code",
   "execution_count": 26,
   "id": "760f9951",
   "metadata": {},
   "outputs": [
    {
     "name": "stderr",
     "output_type": "stream",
     "text": [
      "/Users/thaliahuynh/opt/anaconda3/lib/python3.9/site-packages/bs4/__init__.py:435: MarkupResemblesLocatorWarning: The input looks more like a filename than markup. You may want to open this file and pass the filehandle into Beautiful Soup.\n",
      "  warnings.warn(\n"
     ]
    }
   ],
   "source": [
    "# put it all together\n",
    "def final_preprocess(text):\n",
    "    return preprocess(remove_stopwords(lemmatize_text(text)))\n",
    "    \n",
    "# pre-process training data\n",
    "X_train_clean = [preprocess(text) for text in X_train]"
   ]
  },
  {
   "cell_type": "markdown",
   "id": "be38ff2f",
   "metadata": {},
   "source": [
    "# Text Modeling"
   ]
  },
  {
   "attachments": {},
   "cell_type": "markdown",
   "id": "5e2d6bcd",
   "metadata": {},
   "source": [
    "### 11. Tokenize text and Calculate TF-IDF"
   ]
  },
  {
   "attachments": {},
   "cell_type": "markdown",
   "id": "455dbecd",
   "metadata": {},
   "source": [
    "Prior to running any machine learning models, text data must be converted into numerical feauture vectors.<br><br>\n",
    "CountVectorizer() tokenizes and counts and TfidfTransformer() normalizes the data by providing the importance of the words. TfidfVectorizer() is able to do all 3 tasks.<br><br>\n",
    "TF-IDF (term frequency-inverse document frequency) divides the count of each word by the total count of words in a document ('TF' part) and then lowers the weight of words that occur most frequently while increasing the weight of words that are less frequent ('IDF' part). "
   ]
  },
  {
   "cell_type": "code",
   "execution_count": 27,
   "id": "eb273751",
   "metadata": {},
   "outputs": [
    {
     "data": {
      "text/html": [
       "<div>\n",
       "<style scoped>\n",
       "    .dataframe tbody tr th:only-of-type {\n",
       "        vertical-align: middle;\n",
       "    }\n",
       "\n",
       "    .dataframe tbody tr th {\n",
       "        vertical-align: top;\n",
       "    }\n",
       "\n",
       "    .dataframe thead th {\n",
       "        text-align: right;\n",
       "    }\n",
       "</style>\n",
       "<table border=\"1\" class=\"dataframe\">\n",
       "  <thead>\n",
       "    <tr style=\"text-align: right;\">\n",
       "      <th></th>\n",
       "      <th>00</th>\n",
       "      <th>000</th>\n",
       "      <th>08</th>\n",
       "      <th>10</th>\n",
       "      <th>100</th>\n",
       "      <th>1000</th>\n",
       "      <th>101</th>\n",
       "      <th>11</th>\n",
       "      <th>12</th>\n",
       "      <th>13</th>\n",
       "      <th>...</th>\n",
       "      <th>yr</th>\n",
       "      <th>yrs</th>\n",
       "      <th>yup</th>\n",
       "      <th>zafirazafrin</th>\n",
       "      <th>zayin</th>\n",
       "      <th>zayn</th>\n",
       "      <th>zaynmalik</th>\n",
       "      <th>zenhabits</th>\n",
       "      <th>zero</th>\n",
       "      <th>zone</th>\n",
       "    </tr>\n",
       "  </thead>\n",
       "  <tbody>\n",
       "    <tr>\n",
       "      <th>0</th>\n",
       "      <td>0.0</td>\n",
       "      <td>0.0</td>\n",
       "      <td>0.0</td>\n",
       "      <td>0.0</td>\n",
       "      <td>0.0</td>\n",
       "      <td>0.0</td>\n",
       "      <td>0.0</td>\n",
       "      <td>0.0</td>\n",
       "      <td>0.0</td>\n",
       "      <td>0.0</td>\n",
       "      <td>...</td>\n",
       "      <td>0.0</td>\n",
       "      <td>0.0</td>\n",
       "      <td>0.0</td>\n",
       "      <td>0.0</td>\n",
       "      <td>0.0</td>\n",
       "      <td>0.0</td>\n",
       "      <td>0.0</td>\n",
       "      <td>0.0</td>\n",
       "      <td>0.0</td>\n",
       "      <td>0.0</td>\n",
       "    </tr>\n",
       "    <tr>\n",
       "      <th>1</th>\n",
       "      <td>0.0</td>\n",
       "      <td>0.0</td>\n",
       "      <td>0.0</td>\n",
       "      <td>0.0</td>\n",
       "      <td>0.0</td>\n",
       "      <td>0.0</td>\n",
       "      <td>0.0</td>\n",
       "      <td>0.0</td>\n",
       "      <td>0.0</td>\n",
       "      <td>0.0</td>\n",
       "      <td>...</td>\n",
       "      <td>0.0</td>\n",
       "      <td>0.0</td>\n",
       "      <td>0.0</td>\n",
       "      <td>0.0</td>\n",
       "      <td>0.0</td>\n",
       "      <td>0.0</td>\n",
       "      <td>0.0</td>\n",
       "      <td>0.0</td>\n",
       "      <td>0.0</td>\n",
       "      <td>0.0</td>\n",
       "    </tr>\n",
       "    <tr>\n",
       "      <th>2</th>\n",
       "      <td>0.0</td>\n",
       "      <td>0.0</td>\n",
       "      <td>0.0</td>\n",
       "      <td>0.0</td>\n",
       "      <td>0.0</td>\n",
       "      <td>0.0</td>\n",
       "      <td>0.0</td>\n",
       "      <td>0.0</td>\n",
       "      <td>0.0</td>\n",
       "      <td>0.0</td>\n",
       "      <td>...</td>\n",
       "      <td>0.0</td>\n",
       "      <td>0.0</td>\n",
       "      <td>0.0</td>\n",
       "      <td>0.0</td>\n",
       "      <td>0.0</td>\n",
       "      <td>0.0</td>\n",
       "      <td>0.0</td>\n",
       "      <td>0.0</td>\n",
       "      <td>0.0</td>\n",
       "      <td>0.0</td>\n",
       "    </tr>\n",
       "    <tr>\n",
       "      <th>3</th>\n",
       "      <td>0.0</td>\n",
       "      <td>0.0</td>\n",
       "      <td>0.0</td>\n",
       "      <td>0.0</td>\n",
       "      <td>0.0</td>\n",
       "      <td>0.0</td>\n",
       "      <td>0.0</td>\n",
       "      <td>0.0</td>\n",
       "      <td>0.0</td>\n",
       "      <td>0.0</td>\n",
       "      <td>...</td>\n",
       "      <td>0.0</td>\n",
       "      <td>0.0</td>\n",
       "      <td>0.0</td>\n",
       "      <td>0.0</td>\n",
       "      <td>0.0</td>\n",
       "      <td>0.0</td>\n",
       "      <td>0.0</td>\n",
       "      <td>0.0</td>\n",
       "      <td>0.0</td>\n",
       "      <td>0.0</td>\n",
       "    </tr>\n",
       "    <tr>\n",
       "      <th>4</th>\n",
       "      <td>0.0</td>\n",
       "      <td>0.0</td>\n",
       "      <td>0.0</td>\n",
       "      <td>0.0</td>\n",
       "      <td>0.0</td>\n",
       "      <td>0.0</td>\n",
       "      <td>0.0</td>\n",
       "      <td>0.0</td>\n",
       "      <td>0.0</td>\n",
       "      <td>0.0</td>\n",
       "      <td>...</td>\n",
       "      <td>0.0</td>\n",
       "      <td>0.0</td>\n",
       "      <td>0.0</td>\n",
       "      <td>0.0</td>\n",
       "      <td>0.0</td>\n",
       "      <td>0.0</td>\n",
       "      <td>0.0</td>\n",
       "      <td>0.0</td>\n",
       "      <td>0.0</td>\n",
       "      <td>0.0</td>\n",
       "    </tr>\n",
       "  </tbody>\n",
       "</table>\n",
       "<p>5 rows × 3872 columns</p>\n",
       "</div>"
      ],
      "text/plain": [
       "    00  000   08   10  100  1000  101   11   12   13  ...   yr  yrs  yup  \\\n",
       "0  0.0  0.0  0.0  0.0  0.0   0.0  0.0  0.0  0.0  0.0  ...  0.0  0.0  0.0   \n",
       "1  0.0  0.0  0.0  0.0  0.0   0.0  0.0  0.0  0.0  0.0  ...  0.0  0.0  0.0   \n",
       "2  0.0  0.0  0.0  0.0  0.0   0.0  0.0  0.0  0.0  0.0  ...  0.0  0.0  0.0   \n",
       "3  0.0  0.0  0.0  0.0  0.0   0.0  0.0  0.0  0.0  0.0  ...  0.0  0.0  0.0   \n",
       "4  0.0  0.0  0.0  0.0  0.0   0.0  0.0  0.0  0.0  0.0  ...  0.0  0.0  0.0   \n",
       "\n",
       "   zafirazafrin  zayin  zayn  zaynmalik  zenhabits  zero  zone  \n",
       "0           0.0    0.0   0.0        0.0        0.0   0.0   0.0  \n",
       "1           0.0    0.0   0.0        0.0        0.0   0.0   0.0  \n",
       "2           0.0    0.0   0.0        0.0        0.0   0.0   0.0  \n",
       "3           0.0    0.0   0.0        0.0        0.0   0.0   0.0  \n",
       "4           0.0    0.0   0.0        0.0        0.0   0.0   0.0  \n",
       "\n",
       "[5 rows x 3872 columns]"
      ]
     },
     "execution_count": 27,
     "metadata": {},
     "output_type": "execute_result"
    }
   ],
   "source": [
    "from sklearn.feature_extraction.text import TfidfVectorizer\n",
    "\n",
    "# initialize\n",
    "tfidf_vectorizer = TfidfVectorizer(min_df = 0.0003)\n",
    "tfidf_vec_matrix = tfidf_vectorizer.fit_transform(X_train_clean)\n",
    "feature_names = tfidf_vectorizer.get_feature_names_out()\n",
    "\n",
    "# create dense matrix and convert to dataframe\n",
    "dense_mtx = tfidf_vec_matrix.todense()\n",
    "dense_lst = dense_mtx.tolist()\n",
    "tfidf_df = pd.DataFrame(dense_lst, columns = feature_names)\n",
    "tfidf_df.head()"
   ]
  },
  {
   "attachments": {},
   "cell_type": "markdown",
   "id": "ac646231",
   "metadata": {},
   "source": [
    "### 12. Create word cloud"
   ]
  },
  {
   "attachments": {},
   "cell_type": "markdown",
   "id": "e0ffba1b",
   "metadata": {},
   "source": [
    "Word clouds are popular visualizations for NLP projects since they are a quick way to see the most common words in a document. Words are dispalyed in varying sizes -- the larger the word, the more it appears in the text and the smaller the word, the less it appears in the text."
   ]
  },
  {
   "cell_type": "code",
   "execution_count": 28,
   "id": "e93771d9",
   "metadata": {},
   "outputs": [],
   "source": [
    "## SPLIT DATA INTO DEP AND NON-DEP THEN CALCULATE TF-IDF FOR BOTH TO MAKE WORD CLOUD FOR DEP AND NONDEP\n",
    "## COMBINE COLUMNS TOGETHER AND SUBSET BY ['0'] AND ['1']"
   ]
  },
  {
   "attachments": {},
   "cell_type": "markdown",
   "id": "1c312d56",
   "metadata": {},
   "source": [
    "### 13. Train classifier"
   ]
  },
  {
   "attachments": {},
   "cell_type": "markdown",
   "id": "8049c0ae",
   "metadata": {},
   "source": [
    "##### Multinomial Naive Bayes"
   ]
  },
  {
   "attachments": {},
   "cell_type": "markdown",
   "id": "039fe543",
   "metadata": {},
   "source": [
    "Multinomial Naive Bayes is often used in text classification problems and assumes that observations follow the multinomial distribution which describes the probability of observing counts among 3 or more categories. \n",
    "<br><br>\n",
    "It's based on the Bayes theorem and predicts the label of each piece of text based on previously labeled words. Basically, for any given word in a document, we count the frequency of that word and see how many times it belongs in each category (ie. 'depressed' or 'not depressed'), then we divide it by all the words that belong to that document -- and that'll give us the probability for that word belonging in each category.\n",
    "<br><br>\n",
    "The Naive Bayes classifier is fast for both training and prediction and is easy to interpret, which makes it a good initial baseline."
   ]
  },
  {
   "cell_type": "code",
   "execution_count": 29,
   "id": "c3e9583f",
   "metadata": {},
   "outputs": [],
   "source": [
    "from sklearn.naive_bayes import MultinomialNB\n",
    "\n",
    "# implement Multinomial Naive Bayes algorithm for classfication\n",
    "mnb_classifier = MultinomialNB().fit(tfidf_vec_matrix, y_train)"
   ]
  },
  {
   "cell_type": "markdown",
   "id": "505fce15",
   "metadata": {},
   "source": [
    "##### Support Vector Machine"
   ]
  },
  {
   "cell_type": "code",
   "execution_count": 30,
   "id": "db20d30e",
   "metadata": {},
   "outputs": [],
   "source": [
    "from sklearn import svm\n",
    "\n",
    "# implement SVM algorithm for classification\n",
    "svm_classifier = svm.SVC(kernel = 'linear').fit(tfidf_vec_matrix, y_train)"
   ]
  },
  {
   "cell_type": "markdown",
   "id": "3e16c6bc",
   "metadata": {},
   "source": [
    "##### Logistic Regression"
   ]
  },
  {
   "cell_type": "code",
   "execution_count": 31,
   "id": "c2206361",
   "metadata": {},
   "outputs": [],
   "source": [
    "from sklearn.linear_model import LogisticRegression\n",
    "\n",
    "# implement Logistic Regression algorithm for classification\n",
    "lr_classifier = LogisticRegression().fit(tfidf_vec_matrix, y_train)"
   ]
  },
  {
   "attachments": {},
   "cell_type": "markdown",
   "id": "c29e469d",
   "metadata": {},
   "source": [
    "### 14. Evaluate performance"
   ]
  },
  {
   "cell_type": "code",
   "execution_count": 32,
   "id": "32a03337",
   "metadata": {},
   "outputs": [
    {
     "name": "stderr",
     "output_type": "stream",
     "text": [
      "/Users/thaliahuynh/opt/anaconda3/lib/python3.9/site-packages/bs4/__init__.py:435: MarkupResemblesLocatorWarning: The input looks more like a filename than markup. You may want to open this file and pass the filehandle into Beautiful Soup.\n",
      "  warnings.warn(\n"
     ]
    }
   ],
   "source": [
    "from sklearn import metrics\n",
    "\n",
    "# preprocess testing data\n",
    "X_test_clean = [preprocess(text) for text in X_test]\n",
    "\n",
    "# vectorize testing data\n",
    "X_test_tfidf_vec_matrix = tfidf_vectorizer.transform(X_test_clean)"
   ]
  },
  {
   "cell_type": "markdown",
   "id": "447e2017",
   "metadata": {},
   "source": [
    "##### Multinomial Naive Bayes"
   ]
  },
  {
   "cell_type": "code",
   "execution_count": 33,
   "id": "094fee06",
   "metadata": {},
   "outputs": [
    {
     "name": "stdout",
     "output_type": "stream",
     "text": [
      "Accuracy: 0.8128298822574097\n",
      "Precision: 0.8060394889663183\n",
      "Recall: 0.8318018377946464\n",
      "F1 score: 0.8187180495477782\n"
     ]
    }
   ],
   "source": [
    "# predict with Naive Bayes\n",
    "mnb_y_pred = mnb_classifier.predict(X_test_tfidf_vec_matrix)\n",
    "\n",
    "# evaluate NB performance\n",
    "print('Accuracy:', metrics.accuracy_score(y_test, mnb_y_pred))\n",
    "print('Precision:', metrics.precision_score(y_test, mnb_y_pred))\n",
    "print('Recall:', metrics.recall_score(y_test, mnb_y_pred))\n",
    "print('F1 score:', metrics.f1_score(y_test, mnb_y_pred))"
   ]
  },
  {
   "cell_type": "markdown",
   "id": "5dc41c68",
   "metadata": {},
   "source": [
    "##### Support Vector Machine"
   ]
  },
  {
   "cell_type": "code",
   "execution_count": 34,
   "id": "641380f9",
   "metadata": {},
   "outputs": [
    {
     "name": "stdout",
     "output_type": "stream",
     "text": [
      "Accuracy: 0.8112058465286236\n",
      "Precision: 0.844502847130968\n",
      "Recall: 0.7702756691969637\n",
      "F1 score: 0.8056832427914751\n"
     ]
    }
   ],
   "source": [
    "# predict with SVM\n",
    "svm_y_pred = svm_classifier.predict(X_test_tfidf_vec_matrix)\n",
    "\n",
    "# evaluate SVM performance\n",
    "print('Accuracy:', metrics.accuracy_score(y_test, svm_y_pred))\n",
    "print('Precision:', metrics.precision_score(y_test, svm_y_pred))\n",
    "print('Recall:', metrics.recall_score(y_test, svm_y_pred))\n",
    "print('F1 score:', metrics.f1_score(y_test, svm_y_pred))"
   ]
  },
  {
   "attachments": {},
   "cell_type": "markdown",
   "id": "ec2989d8",
   "metadata": {},
   "source": [
    "##### Logistic Regression"
   ]
  },
  {
   "cell_type": "code",
   "execution_count": 35,
   "id": "e5f1495b",
   "metadata": {},
   "outputs": [
    {
     "name": "stdout",
     "output_type": "stream",
     "text": [
      "Accuracy: 0.8103938286642306\n",
      "Precision: 0.8412353197042193\n",
      "Recall: 0.7726727926488214\n",
      "F1 score: 0.8054977092877968\n"
     ]
    }
   ],
   "source": [
    "# predict with LR\n",
    "lr_y_pred = lr_classifier.predict(X_test_tfidf_vec_matrix)\n",
    "\n",
    "# evaluate LR performance\n",
    "print('Accuracy:', metrics.accuracy_score(y_test, lr_y_pred))\n",
    "print('Precision:', metrics.precision_score(y_test, lr_y_pred))\n",
    "print('Recall:', metrics.recall_score(y_test, lr_y_pred))\n",
    "print('F1 score:', metrics.f1_score(y_test, lr_y_pred))"
   ]
  }
 ],
 "metadata": {
  "kernelspec": {
   "display_name": "base",
   "language": "python",
   "name": "python3"
  },
  "language_info": {
   "codemirror_mode": {
    "name": "ipython",
    "version": 3
   },
   "file_extension": ".py",
   "mimetype": "text/x-python",
   "name": "python",
   "nbconvert_exporter": "python",
   "pygments_lexer": "ipython3",
   "version": "3.9.7"
  },
  "vscode": {
   "interpreter": {
    "hash": "d2c3c19875a7913508ef5ba8e75b2411bf8eca9f21f2a20ea83944949a513570"
   }
  }
 },
 "nbformat": 4,
 "nbformat_minor": 5
}
